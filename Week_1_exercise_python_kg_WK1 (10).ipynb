{
 "cells": [
  {
   "cell_type": "code",
   "execution_count": 21,
   "id": "ef595ded-613f-423e-aae2-7dc2ad1eb597",
   "metadata": {},
   "outputs": [],
   "source": [
    "#Python types\n",
    "\n",
    "# integers\n",
    "int_var = 5"
   ]
  },
  {
   "cell_type": "code",
   "execution_count": 23,
   "id": "c69bb8d8-088d-4253-8007-148aedb0118f",
   "metadata": {},
   "outputs": [],
   "source": [
    "# float   (numbers with decimals)\n",
    "float_var = 3.5"
   ]
  },
  {
   "cell_type": "code",
   "execution_count": 25,
   "id": "6f22132a-5fc1-466b-ad93-a2171e114d80",
   "metadata": {},
   "outputs": [],
   "source": [
    "# string  (text)\n",
    "string_var = \"Alice\""
   ]
  },
  {
   "cell_type": "code",
   "execution_count": 27,
   "id": "3d9843d6-6c04-4ac9-b8e3-5f084f1d4d85",
   "metadata": {},
   "outputs": [],
   "source": [
    "# boolean  (True or False)\n",
    "boolean_var = True"
   ]
  },
  {
   "cell_type": "code",
   "execution_count": 29,
   "id": "407fb935-ea2e-4285-983c-3b923997b497",
   "metadata": {},
   "outputs": [
    {
     "name": "stdout",
     "output_type": "stream",
     "text": [
      "5\n",
      "3.5\n",
      "Alice\n",
      "True\n"
     ]
    }
   ],
   "source": [
    "#print our results\n",
    "print(int_var)\n",
    "print(float_var)\n",
    "print(string_var)\n",
    "print(boolean_var)"
   ]
  },
  {
   "cell_type": "code",
   "execution_count": 37,
   "id": "64cd8cd6-03dc-4baf-8292-b30a9077eb78",
   "metadata": {},
   "outputs": [
    {
     "name": "stdout",
     "output_type": "stream",
     "text": [
      "False\n"
     ]
    }
   ],
   "source": [
    "boolean_var2 = False\n",
    "print(boolean_var2)"
   ]
  },
  {
   "cell_type": "code",
   "execution_count": 41,
   "id": "7b3c0c8a-7c1b-4d2f-8881-6f75933932e8",
   "metadata": {},
   "outputs": [
    {
     "name": "stdout",
     "output_type": "stream",
     "text": [
      "Integer variable is:  5\n",
      "Float variable is:  3.5\n",
      "String variable is:  Alice\n",
      "Boolean variable is:  True\n"
     ]
    }
   ],
   "source": [
    "#concatenate more than one item in print\n",
    "print(\"Integer variable is: \", int_var)\n",
    "print(\"Float variable is: \", float_var)\n",
    "print(\"String variable is: \", string_var)\n",
    "print(\"Boolean variable is: \", boolean_var)"
   ]
  },
  {
   "cell_type": "code",
   "execution_count": 43,
   "id": "ae1b50e3-762e-4712-a7a3-2c41008be00d",
   "metadata": {},
   "outputs": [
    {
     "name": "stdout",
     "output_type": "stream",
     "text": [
      "int_var is of type: <class 'int'>\n"
     ]
    }
   ],
   "source": [
    "#check type of variable\n",
    "print(\"int_var is of type:\", type(int_var))"
   ]
  },
  {
   "cell_type": "code",
   "execution_count": 45,
   "id": "c6c0674f-0361-4cd4-8626-a1f25f3bdc1a",
   "metadata": {},
   "outputs": [
    {
     "data": {
      "text/plain": [
       "str"
      ]
     },
     "execution_count": 45,
     "metadata": {},
     "output_type": "execute_result"
    }
   ],
   "source": [
    "type(string_var)"
   ]
  },
  {
   "cell_type": "code",
   "execution_count": 51,
   "id": "79372a30-3227-4120-bdfd-d4f17de47d83",
   "metadata": {},
   "outputs": [],
   "source": [
    "#Math\n",
    "a = 10\n",
    "b = 4\n"
   ]
  },
  {
   "cell_type": "code",
   "execution_count": 53,
   "id": "8756ba1a-fd09-4ce5-bfc7-4c57cbb76ee6",
   "metadata": {},
   "outputs": [
    {
     "name": "stdout",
     "output_type": "stream",
     "text": [
      "add: 14\n",
      "subtract: 6\n",
      "multiply: 40\n",
      "divide: 2.5\n",
      "exponent: 10000\n",
      "floor division: 2\n",
      "remainder using modulo operator: 2\n"
     ]
    }
   ],
   "source": [
    "print(\"add:\", a + b)\n",
    "print(\"subtract:\", a - b)\n",
    "print(\"multiply:\", a * b)\n",
    "print(\"divide:\", a/b)\n",
    "print(\"exponent:\", a ** b)\n",
    "print(\"floor division:\", a//b)\n",
    "print(\"remainder using modulo operator:\", a % b)"
   ]
  },
  {
   "cell_type": "code",
   "execution_count": 57,
   "id": "e7eecfef-bb7d-4e75-9873-fc1b9aa3b895",
   "metadata": {},
   "outputs": [
    {
     "name": "stdout",
     "output_type": "stream",
     "text": [
      "odd or even based on remainder: 0\n"
     ]
    }
   ],
   "source": [
    "x = 6\n",
    "\n",
    "print(\"odd or even based on remainder:\", x % 2) "
   ]
  },
  {
   "cell_type": "code",
   "execution_count": 59,
   "id": "e6658ecc-33dc-48f4-a6b0-758e28b60fc0",
   "metadata": {},
   "outputs": [
    {
     "name": "stdout",
     "output_type": "stream",
     "text": [
      "is greater? True\n",
      "is lesser? False\n",
      "is equal? False\n",
      "is less than or equal? False\n",
      "is greater than equal? True\n",
      "is not equal? True\n"
     ]
    }
   ],
   "source": [
    "#comparisons  < , >, ==, <=, >=, !=\n",
    "y = 9\n",
    "z = 6\n",
    "print(\"is greater?\", y > z)\n",
    "print(\"is lesser?\", y < z)\n",
    "print(\"is equal?\", y == z)\n",
    "print(\"is less than or equal?\", y <= z)\n",
    "print(\"is greater than equal?\", y >= z)\n",
    "print(\"is not equal?\", y != z)"
   ]
  },
  {
   "cell_type": "code",
   "execution_count": 61,
   "id": "ff2c7e09-d0a2-45e8-9b72-1167deb4a2a6",
   "metadata": {},
   "outputs": [
    {
     "name": "stdout",
     "output_type": "stream",
     "text": [
      "False\n",
      "True\n",
      "True\n"
     ]
    }
   ],
   "source": [
    "#logicals  (and, or, not)\n",
    "print(y == 9 and z>9)\n",
    "print(y == 9 or z > 9)\n",
    "print(not(z>9))"
   ]
  },
  {
   "cell_type": "code",
   "execution_count": 63,
   "id": "55bc7d86-e153-44d6-a464-6a608551655f",
   "metadata": {},
   "outputs": [],
   "source": [
    "string_text = \"Hello, Python!\""
   ]
  },
  {
   "cell_type": "code",
   "execution_count": 73,
   "id": "a0748463-7978-4ada-be31-d5bf001e888a",
   "metadata": {},
   "outputs": [
    {
     "data": {
      "text/plain": [
       "'hello, python!'"
      ]
     },
     "execution_count": 73,
     "metadata": {},
     "output_type": "execute_result"
    }
   ],
   "source": [
    "#methods\n",
    "# lowercase everything\n",
    "string_text.lower()"
   ]
  },
  {
   "cell_type": "code",
   "execution_count": 75,
   "id": "60d47861-5b2a-4f4e-804c-4a889017ae46",
   "metadata": {},
   "outputs": [
    {
     "data": {
      "text/plain": [
       "'Hi, Python!'"
      ]
     },
     "execution_count": 75,
     "metadata": {},
     "output_type": "execute_result"
    }
   ],
   "source": [
    "# replace one string with another\n",
    "string_text.replace(\"Hello\", \"Hi\")"
   ]
  },
  {
   "cell_type": "code",
   "execution_count": 79,
   "id": "93bc5c28-bcda-4b1d-b39e-ea7296429ddd",
   "metadata": {},
   "outputs": [
    {
     "data": {
      "text/plain": [
       "'bye, python!'"
      ]
     },
     "execution_count": 79,
     "metadata": {},
     "output_type": "execute_result"
    }
   ],
   "source": [
    "#chaining methods together\n",
    "string_text.lower().replace(\"hello\", \"hi\").replace(\"hi\", \"bye\")"
   ]
  },
  {
   "cell_type": "code",
   "execution_count": 83,
   "id": "0418339b-2118-41aa-bec2-28b5df66b917",
   "metadata": {},
   "outputs": [
    {
     "data": {
      "text/plain": [
       "True"
      ]
     },
     "execution_count": 83,
     "metadata": {},
     "output_type": "execute_result"
    }
   ],
   "source": [
    "\"Ryan\" ==\"Ryan\""
   ]
  },
  {
   "cell_type": "code",
   "execution_count": 108,
   "id": "02218b9a-4efc-4791-b195-92a8601b8bd4",
   "metadata": {},
   "outputs": [],
   "source": [
    "# data structures   -   lists, tuples, dictionaries\n",
    "#lists - changeable\n",
    "number_list = [1, 2, 3, 4]\n",
    "string_list = [\"Ryan\", \"Dave\", \"George\"]\n",
    "combo_list = [1, 2, 3, \"Ryan\"]\n"
   ]
  },
  {
   "cell_type": "code",
   "execution_count": 110,
   "id": "5f376e12-48a9-460d-8bc4-79f70f93dbef",
   "metadata": {},
   "outputs": [
    {
     "name": "stdout",
     "output_type": "stream",
     "text": [
      "[1, 2, 3, 4]\n",
      "['Ryan', 'Dave', 'George']\n",
      "[1, 2, 3, 'Ryan']\n"
     ]
    }
   ],
   "source": [
    "print(number_list)\n",
    "print(string_list)\n",
    "print(combo_list)"
   ]
  },
  {
   "cell_type": "code",
   "execution_count": 112,
   "id": "2d7a5d48-b385-4d23-bfe2-d3e564718db7",
   "metadata": {},
   "outputs": [
    {
     "data": {
      "text/plain": [
       "['Ryan', 'Dave', 'George']"
      ]
     },
     "execution_count": 112,
     "metadata": {},
     "output_type": "execute_result"
    }
   ],
   "source": [
    "string_list"
   ]
  },
  {
   "cell_type": "code",
   "execution_count": 140,
   "id": "08642e4b-d62c-4626-946f-824185e27159",
   "metadata": {},
   "outputs": [],
   "source": [
    "# tuples - immutable\n",
    "number_tuple = (9, 10, 11)\n",
    "string_tuple = (\"Ryan\", \"Dave\", \"Alice\")"
   ]
  },
  {
   "cell_type": "code",
   "execution_count": 100,
   "id": "1ac44c66-3d1b-4546-914c-c2a22e3bed90",
   "metadata": {},
   "outputs": [
    {
     "name": "stdout",
     "output_type": "stream",
     "text": [
      "(1, 2, 3)\n",
      "('Ryan', 'Dave', 'Alice')\n"
     ]
    }
   ],
   "source": [
    "print(number_tuple)\n",
    "print(string_tuple)"
   ]
  },
  {
   "cell_type": "code",
   "execution_count": 114,
   "id": "ada72a65-b103-45ad-9a9f-ba0dfd17c916",
   "metadata": {},
   "outputs": [],
   "source": [
    "#dictionary - uses key-value pairs\n",
    "employee_dict = { \"name\": \"Alice\", \"age\": 30 }"
   ]
  },
  {
   "cell_type": "code",
   "execution_count": 116,
   "id": "72cf590d-a583-4f0a-afff-00f185672356",
   "metadata": {},
   "outputs": [
    {
     "name": "stdout",
     "output_type": "stream",
     "text": [
      "{'name': 'Alice', 'age': 30}\n"
     ]
    }
   ],
   "source": [
    "print(employee_dict)"
   ]
  },
  {
   "cell_type": "code",
   "execution_count": 136,
   "id": "472afec4-3cac-4859-bcb8-10f8827174b7",
   "metadata": {},
   "outputs": [
    {
     "data": {
      "text/plain": [
       "30"
      ]
     },
     "execution_count": 136,
     "metadata": {},
     "output_type": "execute_result"
    }
   ],
   "source": [
    "#return value based on the key in a dictionary\n",
    "employee_dict[\"age\"] "
   ]
  },
  {
   "cell_type": "code",
   "execution_count": 126,
   "id": "de27f7f3-01a6-467c-a2ff-be727fde67fa",
   "metadata": {},
   "outputs": [
    {
     "data": {
      "text/plain": [
       "1"
      ]
     },
     "execution_count": 126,
     "metadata": {},
     "output_type": "execute_result"
    }
   ],
   "source": [
    "#return value of a list based on the position in the list\n",
    "#  number_list = [1, 2, 3, 4]\n",
    "\n",
    "number_list[0]"
   ]
  },
  {
   "cell_type": "markdown",
   "id": "de36cd6c-9cf2-4451-b0fd-ad4f09769f95",
   "metadata": {},
   "source": [
    "Python is 0 - indexed\n",
    "Positions are counted starting with the number 0\n",
    "number_list = [9, 10, 11, 12]\n",
    "Value of 9 in this list is at the 0 position/ index\n",
    "Value of 10 is the 1 position / index\n",
    "Value of 11 is at the 2 position / index\n",
    "Value of 12 is at the 3 position / index"
   ]
  },
  {
   "cell_type": "code",
   "execution_count": 138,
   "id": "30600fe1-1f95-4200-85b1-cbf8b403a9a7",
   "metadata": {},
   "outputs": [
    {
     "data": {
      "text/plain": [
       "4"
      ]
     },
     "execution_count": 138,
     "metadata": {},
     "output_type": "execute_result"
    }
   ],
   "source": [
    "#negative index\n",
    "number_list[-1]"
   ]
  },
  {
   "cell_type": "code",
   "execution_count": 134,
   "id": "e30e4eb3-fbc7-4093-8a40-e23efade6617",
   "metadata": {},
   "outputs": [
    {
     "name": "stdout",
     "output_type": "stream",
     "text": [
      "-13.333333333333334\n"
     ]
    }
   ],
   "source": [
    "#PEMDAS - order of operations - parentheses, exponents, multiply, divide, add, subtract\n",
    "print((a*b)/(x-y))"
   ]
  },
  {
   "cell_type": "code",
   "execution_count": null,
   "id": "bf2c840e-f588-4145-89e5-8f1a8c9ad7b3",
   "metadata": {},
   "outputs": [],
   "source": []
  },
  {
   "cell_type": "code",
   "execution_count": null,
   "id": "60897c47-e3ca-464f-88b7-77a5d73fb907",
   "metadata": {},
   "outputs": [],
   "source": []
  },
  {
   "cell_type": "code",
   "execution_count": null,
   "id": "2c649500-d836-4bb1-926c-903c4720271b",
   "metadata": {},
   "outputs": [],
   "source": []
  },
  {
   "cell_type": "code",
   "execution_count": null,
   "id": "79f1d8b9-332b-45b3-87a1-c1c4c9175256",
   "metadata": {},
   "outputs": [],
   "source": []
  },
  {
   "cell_type": "code",
   "execution_count": null,
   "id": "be1e0ef6-ce2b-4fef-9c30-840f1ba877b1",
   "metadata": {},
   "outputs": [],
   "source": []
  },
  {
   "cell_type": "code",
   "execution_count": null,
   "id": "6997c3ea-5e2f-4efd-b714-1f7d65e05e93",
   "metadata": {},
   "outputs": [],
   "source": []
  }
 ],
 "metadata": {
  "kernelspec": {
   "display_name": "Python [conda env:base] *",
   "language": "python",
   "name": "conda-base-py"
  },
  "language_info": {
   "codemirror_mode": {
    "name": "ipython",
    "version": 3
   },
   "file_extension": ".py",
   "mimetype": "text/x-python",
   "name": "python",
   "nbconvert_exporter": "python",
   "pygments_lexer": "ipython3",
   "version": "3.12.7"
  }
 },
 "nbformat": 4,
 "nbformat_minor": 5
}
